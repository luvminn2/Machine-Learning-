{
 "cells": [
  {
   "cell_type": "code",
   "execution_count": 6,
   "metadata": {},
   "outputs": [
    {
     "ename": "ModuleNotFoundError",
     "evalue": "No module named 'sklearn'",
     "output_type": "error",
     "traceback": [
      "\u001b[1;31m---------------------------------------------------------------------------\u001b[0m",
      "\u001b[1;31mModuleNotFoundError\u001b[0m                       Traceback (most recent call last)",
      "Cell \u001b[1;32mIn[6], line 8\u001b[0m\n\u001b[0;32m      1\u001b[0m \u001b[38;5;66;03m# 모듈을 import 내용\u001b[39;00m\n\u001b[0;32m      2\u001b[0m \u001b[38;5;66;03m# 라이브러리 로딩\u001b[39;00m\n\u001b[0;32m      3\u001b[0m \u001b[38;5;66;03m# AdboostClassifier,DecisionTreeClassifier\u001b[39;00m\n\u001b[0;32m      4\u001b[0m \u001b[38;5;66;03m# make_lassification -> 자동으로 분류 데이터 셋 만들어\u001b[39;00m\n\u001b[0;32m      5\u001b[0m \u001b[38;5;66;03m# train_test_split 샘플 분리 라이브러리 사용\u001b[39;00m\n\u001b[0;32m      6\u001b[0m \u001b[38;5;66;03m# accuracy_score 확인 라이브러리 로딩.\u001b[39;00m\n\u001b[1;32m----> 8\u001b[0m \u001b[38;5;28;01mfrom\u001b[39;00m \u001b[38;5;21;01msklearn\u001b[39;00m\u001b[38;5;21;01m.\u001b[39;00m\u001b[38;5;21;01mensemble\u001b[39;00m \u001b[38;5;28;01mimport\u001b[39;00m AdaBoostClassifier\n\u001b[0;32m      9\u001b[0m \u001b[38;5;28;01mfrom\u001b[39;00m \u001b[38;5;21;01msklearn\u001b[39;00m\u001b[38;5;21;01m.\u001b[39;00m\u001b[38;5;21;01mtree\u001b[39;00m \u001b[38;5;28;01mimport\u001b[39;00m DecisionTreeClassifier\n\u001b[0;32m     10\u001b[0m \u001b[38;5;28;01mfrom\u001b[39;00m \u001b[38;5;21;01msklearn\u001b[39;00m\u001b[38;5;21;01m.\u001b[39;00m\u001b[38;5;21;01mdatasets\u001b[39;00m \u001b[38;5;28;01mimport\u001b[39;00m make_classification\n",
      "\u001b[1;31mModuleNotFoundError\u001b[0m: No module named 'sklearn'"
     ]
    }
   ],
   "source": [
    "# 모듈을 import 내용\n",
    "# 라이브러리 로딩\n",
    "# AdboostClassifier,DecisionTreeClassifier\n",
    "# make_lassification -> 자동으로 분류 데이터 셋 만들어\n",
    "# train_test_split 샘플 분리 라이브러리 사용\n",
    "# accuracy_score 확인 라이브러리 로딩.\n",
    "\n",
    "from sklearn.ensemble import AdaBoostClassifier\n",
    "from sklearn.tree import DecisionTreeClassifier\n",
    "from sklearn.datasets import make_classification\n",
    "from sklearn.model_selection import train_test_split\n",
    "from sklearn.metrics import accuracy_score\n",
    "\n",
    "# 분류 데이터셋 생성\n",
    "# 샘플갯수 1000, 특성은 42개, random_state = 42\n",
    "# random_state 를 지정하면 항상 같은 결과 나옴.\n",
    "X, y = make_classification(n_samples=1000, n_features=20, random_state=42)\n",
    "\n",
    "\n",
    "\n",
    "\n",
    "\n",
    "\n",
    "\n",
    "# 학습용 및 테스트용 데이터 분할\n",
    "# 학습용 데이터 80%, 나머지 20% 테스트용 나눔 \n",
    "X_train, X_test, y_train, y_test = train_test_split(X, y, test_size=0.2, random_state=42)\n",
    "\n",
    "# 아다부스트 모델 생성\n",
    "# 기본 분류 모델 : 결정 트리 분류기 사용 \n",
    "base_estimator = DecisionTreeClassifier(max_depth=1)\n",
    "# AdaBoost 분류기\n",
    "# base_estimator, estimator 의 개수는 50 -> 약한 학습기 50개\n",
    "# 학습률 1.0, randon_state= 42\n",
    "# 결정 트리구조가 순차적 50개가 연결됨. \n",
    "model = AdaBoostClassifier(base_estimator=base_estimator, n_estimators=50, learning_rate=1.0, random_state=42)\n",
    "\n",
    "import numpy as np\n",
    "\n",
    "# 모델 학습\n",
    "model.fit(X_train, y_train)\n",
    "\n",
    "# 예측 및 평가\n",
    "y_pred = model.predict(X_test)\n",
    "accuracy = accuracy_score(y_test, y_pred)\n",
    "print(f'Accuracy: {accuracy:.2f}')\n"
   ]
  },
  {
   "cell_type": "code",
   "execution_count": null,
   "metadata": {},
   "outputs": [],
   "source": [
    "#PCA를 사용하여 데이터 축소 및 시각화\n",
    "from sklearn.decomposition import PCA\n",
    "pca = PCA(n_componets = 2)\n",
    "X_train_reduced = pca.fit_transform(X_train)\n",
    "\n",
    "\n",
    "#그림으로 그리는 부분\n",
    "plt.figure(figsize=(10,7))"
   ]
  },
  {
   "cell_type": "markdown",
   "metadata": {},
   "source": [
    "정리 : 에이다 부스터\n",
    "\n",
    "1. 약한 분류기를 여러개를 순차적 조합.(순차적 조합:앞의 출력의 뒤의 모델에서 입력되는 구조)\n",
    "\n",
    "2. 단순한 분류기를 사용해서 비선형적인 특징을 가지는 데이터 분류 가능.\n",
    "\n",
    "3. 잘못 예측한 데이터에 가중치를 부여 -> 잘못 예측한 데이터 분류에 집중 "
   ]
  }
 ],
 "metadata": {
  "kernelspec": {
   "display_name": "Python 3",
   "language": "python",
   "name": "python3"
  },
  "language_info": {
   "codemirror_mode": {
    "name": "ipython",
    "version": 3
   },
   "file_extension": ".py",
   "mimetype": "text/x-python",
   "name": "python",
   "nbconvert_exporter": "python",
   "pygments_lexer": "ipython3",
   "version": "3.12.3"
  }
 },
 "nbformat": 4,
 "nbformat_minor": 2
}
